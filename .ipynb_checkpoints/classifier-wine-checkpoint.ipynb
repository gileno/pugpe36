{
 "metadata": {
  "name": "",
  "signature": "sha256:1164b660e6c3e650c4b0bb97a76cd8d2886f1656448bf9618a93c4333c4ecd22"
 },
 "nbformat": 3,
 "nbformat_minor": 0,
 "worksheets": []
}