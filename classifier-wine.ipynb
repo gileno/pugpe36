{
 "metadata": {
  "name": "",
  "signature": "sha256:ad174bbfda3a011feabc2f1def8766c1d0a0a80e1d3b5a027194bb36a93b1b4a"
 },
 "nbformat": 3,
 "nbformat_minor": 0,
 "worksheets": [
  {
   "cells": [
    {
     "cell_type": "code",
     "collapsed": false,
     "input": [
      "%matplotlib inline"
     ],
     "language": "python",
     "metadata": {},
     "outputs": [],
     "prompt_number": 1
    },
    {
     "cell_type": "code",
     "collapsed": false,
     "input": [
      "import pandas as pd\n",
      "import pylab as pl\n",
      "from sklearn.neighbors import KNeighborsClassifier\n",
      "import numpy as np"
     ],
     "language": "python",
     "metadata": {},
     "outputs": [],
     "prompt_number": 2
    },
    {
     "cell_type": "code",
     "collapsed": false,
     "input": [
      "df = pd.read_csv(\"https://s3.amazonaws.com/demo-datasets/wine.csv\")\n",
      " \n",
      "test_idx = np.random.uniform(0, 1, len(df)) <= 0.3\n",
      "train = df[test_idx==True]\n",
      "test = df[test_idx==False]\n",
      "\n",
      "features = ['density', 'sulphates', 'residual_sugar']\n",
      " \n",
      "results = []\n",
      "for n in range(1, 51, 2):\n",
      "    clf = KNeighborsClassifier(n_neighbors=n)\n",
      "    clf.fit(train[features], train['high_quality'])\n",
      "    preds = clf.predict(test[features])\n",
      "    accuracy = np.where(preds==test['high_quality'], 1, 0).sum() / float(len(test))\n",
      "    print(\"Neighbors: %d, Accuracy: %3f\" % (n, accuracy))\n",
      " \n",
      "    results.append([n, accuracy])\n",
      " \n",
      "results = pd.DataFrame(results, columns=[\"n\", \"accuracy\"])\n",
      " \n",
      "pl.plot(results.n, results.accuracy)\n",
      "pl.title(\"Accuracy with Increasing K\")\n",
      "pl.show()"
     ],
     "language": "python",
     "metadata": {},
     "outputs": [
      {
       "output_type": "stream",
       "stream": "stdout",
       "text": [
        "Neighbors: 1, Accuracy: 0.748030\n",
        "Neighbors: 3, Accuracy: 0.768608\n",
        "Neighbors: 5, Accuracy: 0.791813\n",
        "Neighbors: 7, Accuracy: 0.791594\n",
        "Neighbors: 9, Accuracy: 0.794221"
       ]
      },
      {
       "output_type": "stream",
       "stream": "stdout",
       "text": [
        "\n",
        "Neighbors: 11, Accuracy: 0.792688\n",
        "Neighbors: 13, Accuracy: 0.795096\n",
        "Neighbors: 15, Accuracy: 0.800350"
       ]
      },
      {
       "output_type": "stream",
       "stream": "stdout",
       "text": [
        "\n",
        "Neighbors: 17, Accuracy: 0.803853\n",
        "Neighbors: 19, Accuracy: 0.802977"
       ]
      },
      {
       "output_type": "stream",
       "stream": "stdout",
       "text": [
        "\n",
        "Neighbors: 21, Accuracy: 0.802539\n",
        "Neighbors: 23, Accuracy: 0.802758"
       ]
      },
      {
       "output_type": "stream",
       "stream": "stdout",
       "text": [
        "\n",
        "Neighbors: 25, Accuracy: 0.803853\n",
        "Neighbors: 27, Accuracy: 0.803415"
       ]
      },
      {
       "output_type": "stream",
       "stream": "stdout",
       "text": [
        "\n",
        "Neighbors: 29, Accuracy: 0.803415\n",
        "Neighbors: 31, Accuracy: 0.803415"
       ]
      },
      {
       "output_type": "stream",
       "stream": "stdout",
       "text": [
        "\n",
        "Neighbors: 33, Accuracy: 0.803196\n",
        "Neighbors: 35, Accuracy: 0.803415"
       ]
      },
      {
       "output_type": "stream",
       "stream": "stdout",
       "text": [
        "\n",
        "Neighbors: 37, Accuracy: 0.803415\n",
        "Neighbors: 39, Accuracy: 0.803415"
       ]
      },
      {
       "output_type": "stream",
       "stream": "stdout",
       "text": [
        "\n",
        "Neighbors: 41, Accuracy: 0.803415\n",
        "Neighbors: 43, Accuracy: 0.803415"
       ]
      },
      {
       "output_type": "stream",
       "stream": "stdout",
       "text": [
        "\n",
        "Neighbors: 45, Accuracy: 0.803415\n",
        "Neighbors: 47, Accuracy: 0.803415"
       ]
      },
      {
       "output_type": "stream",
       "stream": "stdout",
       "text": [
        "\n",
        "Neighbors: 49, Accuracy: 0.803415"
       ]
      },
      {
       "output_type": "stream",
       "stream": "stdout",
       "text": [
        "\n"
       ]
      },
      {
       "metadata": {},
       "output_type": "display_data",
       "png": "[encoded data removed]",
       "text": [
        "<matplotlib.figure.Figure at 0x108e4b690>"
       ]
      }
     ],
     "prompt_number": 3
    },
    {
     "cell_type": "code",
     "collapsed": false,
     "input": [],
     "language": "python",
     "metadata": {},
     "outputs": []
    }
   ],
   "metadata": {}
  }
 ]
}