{
 "metadata": {
  "name": "",
  "signature": "sha256:982ba015a57c4db65d07c8375ba412736c1183b606c6bc182f4c9d7990c5cc70"
 },
 "nbformat": 3,
 "nbformat_minor": 0,
 "worksheets": [
  {
   "cells": [
    {
     "cell_type": "code",
     "collapsed": false,
     "input": [
      "import pandas as pd\n",
      "import pylab as pl\n",
      "from sklearn.neighbors import KNeighborsClassifier"
     ],
     "language": "python",
     "metadata": {},
     "outputs": [],
     "prompt_number": 1
    },
    {
     "cell_type": "code",
     "collapsed": false,
     "input": [
      "df = pd.read_csv(\"https://s3.amazonaws.com/demo-datasets/wine.csv\")\n",
      " \n",
      "test_idx = np.random.uniform(0, 1, len(df)) <= 0.3\n",
      "train = df[test_idx==True]\n",
      "test = df[test_idx==False]\n",
      " \n",
      "features = ['density', 'sulphates', 'residual_sugar']\n",
      " \n",
      "results = []\n",
      "for n in range(1, 51, 2):\n",
      "    clf = KNeighborsClassifier(n_neighbors=n)\n",
      "    clf.fit(train[features], train['high_quality'])\n",
      "    preds = clf.predict(test[features])\n",
      "    accuracy = np.where(preds==test['high_quality'], 1, 0).sum() / float(len(test))\n",
      "    print(\"Neighbors: %d, Accuracy: %3f\" % (n, accuracy))\n",
      " \n",
      "    results.append([n, accuracy])\n",
      " \n",
      "results = pd.DataFrame(results, columns=[\"n\", \"accuracy\"])\n",
      " \n",
      "pl.plot(results.n, results.accuracy)\n",
      "pl.title(\"Accuracy with Increasing K\")\n",
      "pl.show()"
     ],
     "language": "python",
     "metadata": {},
     "outputs": [
      {
       "ename": "NameError",
       "evalue": "name 'np' is not defined",
       "output_type": "pyerr",
       "traceback": [
        "\u001b[0;31m---------------------------------------------------------------------------\u001b[0m\n\u001b[0;31mNameError\u001b[0m                                 Traceback (most recent call last)",
        "\u001b[0;32m<ipython-input-2-163e3a07e8e6>\u001b[0m in \u001b[0;36m<module>\u001b[0;34m()\u001b[0m\n\u001b[1;32m      1\u001b[0m \u001b[0mdf\u001b[0m \u001b[0;34m=\u001b[0m \u001b[0mpd\u001b[0m\u001b[0;34m.\u001b[0m\u001b[0mread_csv\u001b[0m\u001b[0;34m(\u001b[0m\u001b[0;34m\"https://s3.amazonaws.com/demo-datasets/wine.csv\"\u001b[0m\u001b[0;34m)\u001b[0m\u001b[0;34m\u001b[0m\u001b[0m\n\u001b[1;32m      2\u001b[0m \u001b[0;34m\u001b[0m\u001b[0m\n\u001b[0;32m----> 3\u001b[0;31m \u001b[0mtest_idx\u001b[0m \u001b[0;34m=\u001b[0m \u001b[0mnp\u001b[0m\u001b[0;34m.\u001b[0m\u001b[0mrandom\u001b[0m\u001b[0;34m.\u001b[0m\u001b[0muniform\u001b[0m\u001b[0;34m(\u001b[0m\u001b[0;36m0\u001b[0m\u001b[0;34m,\u001b[0m \u001b[0;36m1\u001b[0m\u001b[0;34m,\u001b[0m \u001b[0mlen\u001b[0m\u001b[0;34m(\u001b[0m\u001b[0mdf\u001b[0m\u001b[0;34m)\u001b[0m\u001b[0;34m)\u001b[0m \u001b[0;34m<=\u001b[0m \u001b[0;36m0.3\u001b[0m\u001b[0;34m\u001b[0m\u001b[0m\n\u001b[0m\u001b[1;32m      4\u001b[0m \u001b[0mtrain\u001b[0m \u001b[0;34m=\u001b[0m \u001b[0mdf\u001b[0m\u001b[0;34m[\u001b[0m\u001b[0mtest_idx\u001b[0m\u001b[0;34m==\u001b[0m\u001b[0;32mTrue\u001b[0m\u001b[0;34m]\u001b[0m\u001b[0;34m\u001b[0m\u001b[0m\n\u001b[1;32m      5\u001b[0m \u001b[0mtest\u001b[0m \u001b[0;34m=\u001b[0m \u001b[0mdf\u001b[0m\u001b[0;34m[\u001b[0m\u001b[0mtest_idx\u001b[0m\u001b[0;34m==\u001b[0m\u001b[0;32mFalse\u001b[0m\u001b[0;34m]\u001b[0m\u001b[0;34m\u001b[0m\u001b[0m\n",
        "\u001b[0;31mNameError\u001b[0m: name 'np' is not defined"
       ]
      }
     ],
     "prompt_number": 2
    },
    {
     "cell_type": "code",
     "collapsed": false,
     "input": [
      "import numpy as np\n",
      "df = pd.read_csv(\"https://s3.amazonaws.com/demo-datasets/wine.csv\")\n",
      " \n",
      "test_idx = np.random.uniform(0, 1, len(df)) <= 0.3\n",
      "train = df[test_idx==True]\n",
      "test = df[test_idx==False]\n",
      " \n",
      "features = ['density', 'sulphates', 'residual_sugar']\n",
      " \n",
      "results = []\n",
      "for n in range(1, 51, 2):\n",
      "    clf = KNeighborsClassifier(n_neighbors=n)\n",
      "    clf.fit(train[features], train['high_quality'])\n",
      "    preds = clf.predict(test[features])\n",
      "    accuracy = np.where(preds==test['high_quality'], 1, 0).sum() / float(len(test))\n",
      "    print(\"Neighbors: %d, Accuracy: %3f\" % (n, accuracy))\n",
      " \n",
      "    results.append([n, accuracy])\n",
      " \n",
      "results = pd.DataFrame(results, columns=[\"n\", \"accuracy\"])\n",
      " \n",
      "pl.plot(results.n, results.accuracy)\n",
      "pl.title(\"Accuracy with Increasing K\")\n",
      "pl.show()"
     ],
     "language": "python",
     "metadata": {},
     "outputs": [
      {
       "output_type": "stream",
       "stream": "stdout",
       "text": [
        "Neighbors: 1, Accuracy: 0.755211\n",
        "Neighbors: 3, Accuracy: 0.769845\n",
        "Neighbors: 5, Accuracy: 0.772284\n",
        "Neighbors: 7, Accuracy: 0.777384\n",
        "Neighbors: 9, Accuracy: 0.784922"
       ]
      },
      {
       "output_type": "stream",
       "stream": "stdout",
       "text": [
        "\n",
        "Neighbors: 11, Accuracy: 0.788248\n",
        "Neighbors: 13, Accuracy: 0.794457\n",
        "Neighbors: 15, Accuracy: 0.795565"
       ]
      },
      {
       "output_type": "stream",
       "stream": "stdout",
       "text": [
        "\n",
        "Neighbors: 17, Accuracy: 0.795122\n",
        "Neighbors: 19, Accuracy: 0.796674"
       ]
      },
      {
       "output_type": "stream",
       "stream": "stdout",
       "text": [
        "\n",
        "Neighbors: 21, Accuracy: 0.796896\n",
        "Neighbors: 23, Accuracy: 0.799335"
       ]
      },
      {
       "output_type": "stream",
       "stream": "stdout",
       "text": [
        "\n",
        "Neighbors: 25, Accuracy: 0.800443\n",
        "Neighbors: 27, Accuracy: 0.800887"
       ]
      },
      {
       "output_type": "stream",
       "stream": "stdout",
       "text": [
        "\n",
        "Neighbors: 29, Accuracy: 0.801330\n",
        "Neighbors: 31, Accuracy: 0.801774"
       ]
      },
      {
       "output_type": "stream",
       "stream": "stdout",
       "text": [
        "\n",
        "Neighbors: 33, Accuracy: 0.801774\n",
        "Neighbors: 35, Accuracy: 0.801996"
       ]
      },
      {
       "output_type": "stream",
       "stream": "stdout",
       "text": [
        "\n",
        "Neighbors: 37, Accuracy: 0.802439\n",
        "Neighbors: 39, Accuracy: 0.802217"
       ]
      },
      {
       "output_type": "stream",
       "stream": "stdout",
       "text": [
        "\n",
        "Neighbors: 41, Accuracy: 0.802217\n",
        "Neighbors: 43, Accuracy: 0.802217"
       ]
      },
      {
       "output_type": "stream",
       "stream": "stdout",
       "text": [
        "\n",
        "Neighbors: 45, Accuracy: 0.802217\n",
        "Neighbors: 47, Accuracy: 0.802217"
       ]
      },
      {
       "output_type": "stream",
       "stream": "stdout",
       "text": [
        "\n",
        "Neighbors: 49, Accuracy: 0.802217"
       ]
      }
     ]
    },
    {
     "cell_type": "code",
     "collapsed": false,
     "input": [
      "%matplotlib inline"
     ],
     "language": "python",
     "metadata": {},
     "outputs": []
    },
    {
     "cell_type": "code",
     "collapsed": false,
     "input": [
      "df = pd.read_csv(\"https://s3.amazonaws.com/demo-datasets/wine.csv\")\n",
      " \n",
      "test_idx = np.random.uniform(0, 1, len(df)) <= 0.3\n",
      "train = df[test_idx==True]\n",
      "test = df[test_idx==False]\n",
      "\n",
      "features = ['density', 'sulphates', 'residual_sugar']\n",
      " \n",
      "results = []\n",
      "for n in range(1, 51, 2):\n",
      "    clf = KNeighborsClassifier(n_neighbors=n)\n",
      "    clf.fit(train[features], train['high_quality'])\n",
      "    preds = clf.predict(test[features])\n",
      "    accuracy = np.where(preds==test['high_quality'], 1, 0).sum() / float(len(test))\n",
      "    print(\"Neighbors: %d, Accuracy: %3f\" % (n, accuracy))\n",
      " \n",
      "    results.append([n, accuracy])\n",
      " \n",
      "results = pd.DataFrame(results, columns=[\"n\", \"accuracy\"])\n",
      " \n",
      "pl.plot(results.n, results.accuracy)\n",
      "pl.title(\"Accuracy with Increasing K\")\n",
      "pl.show()"
     ],
     "language": "python",
     "metadata": {},
     "outputs": []
    },
    {
     "cell_type": "code",
     "collapsed": false,
     "input": [],
     "language": "python",
     "metadata": {},
     "outputs": []
    }
   ],
   "metadata": {}
  }
 ]
}